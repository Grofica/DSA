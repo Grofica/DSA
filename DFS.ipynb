{
 "cells": [
  {
   "cell_type": "markdown",
   "id": "e678760c-d920-4cee-8e7c-de62817ee11c",
   "metadata": {},
   "source": [
    "# DFS"
   ]
  },
  {
   "cell_type": "markdown",
   "id": "d8e33cc6-9e7b-455d-932a-dc778e907b26",
   "metadata": {},
   "source": [
    "## Iterativna verzija"
   ]
  },
  {
   "cell_type": "code",
   "execution_count": 6,
   "id": "135af99d-f59e-44aa-931f-7f8acd9c5e1e",
   "metadata": {},
   "outputs": [],
   "source": [
    "def dfs_iterative(graph, start):\n",
    "    visited = set()\n",
    "    stack = [start]\n",
    "\n",
    "    while stack:\n",
    "        vertex = stack.pop()\n",
    "        if vertex not in visited:\n",
    "            print(vertex, end='')\n",
    "            visited.add(vertex)\n",
    "        for neighbor in reversed(graph[vertex]):\n",
    "            if neighbor not in visited:\n",
    "                stack.append(neighbor)\n",
    "\n",
    "graph = {\n",
    "    'A': ['B', 'C'],\n",
    "    'B': ['A', 'D', 'E'],\n",
    "    'C': ['A', 'F'],\n",
    "    'D': ['B'],\n",
    "    'E': ['B', 'F'],\n",
    "    'F': ['C', 'E']\n",
    "}\n"
   ]
  },
  {
   "cell_type": "code",
   "execution_count": 7,
   "id": "4a0ea819-6c25-440a-b7e2-d2be1f18174b",
   "metadata": {},
   "outputs": [
    {
     "name": "stdout",
     "output_type": "stream",
     "text": [
      "ABDEFC"
     ]
    }
   ],
   "source": [
    "dfs_iterative(graph, 'A')"
   ]
  },
  {
   "cell_type": "markdown",
   "id": "0452caf7-496b-4be6-904f-e5c0da85c21d",
   "metadata": {},
   "source": [
    "## Rekurzivna verzija"
   ]
  },
  {
   "cell_type": "code",
   "execution_count": 9,
   "id": "2455f83d-0a28-4b7b-a8ba-00821f7677f8",
   "metadata": {},
   "outputs": [],
   "source": [
    "def dfs_recursive(graph, start, visited=None):\n",
    "    if visited is None:\n",
    "        visited = set()\n",
    "\n",
    "    visited.add(start)\n",
    "    print(start, end='')\n",
    "\n",
    "    for neighbor in graph[start]:\n",
    "        if neighbor not in visited:\n",
    "            dfs_recursive(graph, neighbor, visited)\n",
    "\n",
    "graph = {\n",
    "    'A': ['B', 'C'],\n",
    "    'B': ['A', 'D', 'E'],\n",
    "    'C': ['A', 'F'],\n",
    "    'D': ['B'],\n",
    "    'E': ['B', 'F'],\n",
    "    'F': ['C', 'E']\n",
    "}\n"
   ]
  },
  {
   "cell_type": "code",
   "execution_count": 10,
   "id": "3633f9d5-9751-40fd-9ad3-d35756bc57d0",
   "metadata": {},
   "outputs": [
    {
     "name": "stdout",
     "output_type": "stream",
     "text": [
      "ABDEFC"
     ]
    }
   ],
   "source": [
    "dfs_recursive(graph, 'A')"
   ]
  },
  {
   "cell_type": "code",
   "execution_count": null,
   "id": "4c1a002c-7a3f-4343-a496-972c75e8835d",
   "metadata": {},
   "outputs": [],
   "source": []
  }
 ],
 "metadata": {
  "kernelspec": {
   "display_name": "Python 3 (ipykernel)",
   "language": "python",
   "name": "python3"
  },
  "language_info": {
   "codemirror_mode": {
    "name": "ipython",
    "version": 3
   },
   "file_extension": ".py",
   "mimetype": "text/x-python",
   "name": "python",
   "nbconvert_exporter": "python",
   "pygments_lexer": "ipython3",
   "version": "3.11.5"
  }
 },
 "nbformat": 4,
 "nbformat_minor": 5
}
