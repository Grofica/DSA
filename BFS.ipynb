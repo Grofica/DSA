{
 "cells": [
  {
   "cell_type": "markdown",
   "id": "9b0c3499-33d5-4fef-b087-55ba2eb6a947",
   "metadata": {},
   "source": [
    "# BFS"
   ]
  },
  {
   "cell_type": "code",
   "execution_count": 11,
   "id": "b42ad9a3-d4d3-460f-86de-e7d692fc18d3",
   "metadata": {},
   "outputs": [],
   "source": [
    "#red\n",
    "from collections import deque"
   ]
  },
  {
   "cell_type": "code",
   "execution_count": 9,
   "id": "40d4f7ac-f446-4feb-8ffd-0da48f37dc69",
   "metadata": {},
   "outputs": [],
   "source": [
    "def bfs(graph, start):\n",
    "    visited = set() # nema dublikata zbog seta\n",
    "    queue = deque([start])\n",
    "\n",
    "    while queue:\n",
    "        vertex = queue.popleft()\n",
    "        if vertex not in visited:\n",
    "            print(vertex, end=\" \")\n",
    "            visited.add(vertex)\n",
    "            for neighbor in graph[vertex]:\n",
    "                if neighbor not in visited:\n",
    "                    queue.append(neighbor)\n",
    "\n",
    "\n",
    "graph = {\n",
    "    'A' : ['B', 'C'],\n",
    "    'B' : ['A', 'D','E'],\n",
    "    'C' : ['A', 'F'],\n",
    "    'D' : ['B'],\n",
    "    'E' : ['B', 'F'],\n",
    "    'F' : ['C', 'E']\n",
    "}"
   ]
  },
  {
   "cell_type": "code",
   "execution_count": 10,
   "id": "69a13383-5094-4cac-810a-3c4efe24db9b",
   "metadata": {},
   "outputs": [
    {
     "name": "stdout",
     "output_type": "stream",
     "text": [
      "A B C D E F "
     ]
    }
   ],
   "source": [
    "bfs(graph, 'A')"
   ]
  },
  {
   "cell_type": "code",
   "execution_count": null,
   "id": "7ee6ebef-9b10-4442-933b-46f727a84f47",
   "metadata": {},
   "outputs": [],
   "source": []
  }
 ],
 "metadata": {
  "kernelspec": {
   "display_name": "Python 3 (ipykernel)",
   "language": "python",
   "name": "python3"
  },
  "language_info": {
   "codemirror_mode": {
    "name": "ipython",
    "version": 3
   },
   "file_extension": ".py",
   "mimetype": "text/x-python",
   "name": "python",
   "nbconvert_exporter": "python",
   "pygments_lexer": "ipython3",
   "version": "3.11.5"
  }
 },
 "nbformat": 4,
 "nbformat_minor": 5
}
